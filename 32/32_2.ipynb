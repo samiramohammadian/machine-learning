{
 "cells": [
  {
   "cell_type": "code",
   "execution_count": 1,
   "id": "604419fa",
   "metadata": {},
   "outputs": [],
   "source": [
    "# libraries used\n",
    "import matplotlib.pyplot as plt\n",
    "import pandas as pd\n",
    "import numpy as np"
   ]
  },
  {
   "cell_type": "code",
   "execution_count": 2,
   "id": "68b7be5a",
   "metadata": {},
   "outputs": [],
   "source": [
    "# width   &  length apple \n",
    "# width   &  length banana\n",
    "\n",
    "np.random.seed(121)\n",
    "\n",
    "N = 1000     # number of apple and banana\n",
    "std = 0.6    #standard deviation\n",
    "\n",
    "# \n",
    "bananas = pd.DataFrame({\n",
    "    'length': np.random.normal(8, std, N),\n",
    "    'width': np.random.normal(4, std, N),\n",
    "    'class': np.zeros(N, dtype='int')}          #banana class   0\n",
    ")\n",
    "\n",
    "apples = pd.DataFrame({\n",
    "    'length': np.random.normal(6, std, N),\n",
    "    'width': np.random.normal(6, std, N),\n",
    "    'class': np.ones(N, dtype='int')}            #apple class 1\n",
    ")\n",
    "\n",
    "fruits = pd.concat([bananas, apples])"
   ]
  },
  {
   "cell_type": "code",
   "execution_count": 3,
   "id": "310ac662",
   "metadata": {},
   "outputs": [
    {
     "data": {
      "text/html": [
       "<div>\n",
       "<style scoped>\n",
       "    .dataframe tbody tr th:only-of-type {\n",
       "        vertical-align: middle;\n",
       "    }\n",
       "\n",
       "    .dataframe tbody tr th {\n",
       "        vertical-align: top;\n",
       "    }\n",
       "\n",
       "    .dataframe thead th {\n",
       "        text-align: right;\n",
       "    }\n",
       "</style>\n",
       "<table border=\"1\" class=\"dataframe\">\n",
       "  <thead>\n",
       "    <tr style=\"text-align: right;\">\n",
       "      <th></th>\n",
       "      <th>length</th>\n",
       "      <th>width</th>\n",
       "      <th>class</th>\n",
       "    </tr>\n",
       "  </thead>\n",
       "  <tbody>\n",
       "    <tr>\n",
       "      <th>0</th>\n",
       "      <td>7.872780</td>\n",
       "      <td>3.756298</td>\n",
       "      <td>0</td>\n",
       "    </tr>\n",
       "    <tr>\n",
       "      <th>1</th>\n",
       "      <td>7.829042</td>\n",
       "      <td>3.954792</td>\n",
       "      <td>0</td>\n",
       "    </tr>\n",
       "    <tr>\n",
       "      <th>2</th>\n",
       "      <td>7.655661</td>\n",
       "      <td>4.182660</td>\n",
       "      <td>0</td>\n",
       "    </tr>\n",
       "    <tr>\n",
       "      <th>3</th>\n",
       "      <td>7.735814</td>\n",
       "      <td>3.209214</td>\n",
       "      <td>0</td>\n",
       "    </tr>\n",
       "    <tr>\n",
       "      <th>4</th>\n",
       "      <td>7.801934</td>\n",
       "      <td>4.040239</td>\n",
       "      <td>0</td>\n",
       "    </tr>\n",
       "    <tr>\n",
       "      <th>5</th>\n",
       "      <td>8.710217</td>\n",
       "      <td>3.617070</td>\n",
       "      <td>0</td>\n",
       "    </tr>\n",
       "    <tr>\n",
       "      <th>6</th>\n",
       "      <td>8.969224</td>\n",
       "      <td>4.127500</td>\n",
       "      <td>0</td>\n",
       "    </tr>\n",
       "    <tr>\n",
       "      <th>7</th>\n",
       "      <td>8.220237</td>\n",
       "      <td>3.507345</td>\n",
       "      <td>0</td>\n",
       "    </tr>\n",
       "    <tr>\n",
       "      <th>8</th>\n",
       "      <td>7.991528</td>\n",
       "      <td>4.053815</td>\n",
       "      <td>0</td>\n",
       "    </tr>\n",
       "    <tr>\n",
       "      <th>9</th>\n",
       "      <td>8.377785</td>\n",
       "      <td>4.688682</td>\n",
       "      <td>0</td>\n",
       "    </tr>\n",
       "  </tbody>\n",
       "</table>\n",
       "</div>"
      ],
      "text/plain": [
       "     length     width  class\n",
       "0  7.872780  3.756298      0\n",
       "1  7.829042  3.954792      0\n",
       "2  7.655661  4.182660      0\n",
       "3  7.735814  3.209214      0\n",
       "4  7.801934  4.040239      0\n",
       "5  8.710217  3.617070      0\n",
       "6  8.969224  4.127500      0\n",
       "7  8.220237  3.507345      0\n",
       "8  7.991528  4.053815      0\n",
       "9  8.377785  4.688682      0"
      ]
     },
     "execution_count": 3,
     "metadata": {},
     "output_type": "execute_result"
    }
   ],
   "source": [
    "bananas.head(10)"
   ]
  },
  {
   "cell_type": "code",
   "execution_count": 4,
   "id": "af9da1da",
   "metadata": {},
   "outputs": [
    {
     "data": {
      "text/html": [
       "<div>\n",
       "<style scoped>\n",
       "    .dataframe tbody tr th:only-of-type {\n",
       "        vertical-align: middle;\n",
       "    }\n",
       "\n",
       "    .dataframe tbody tr th {\n",
       "        vertical-align: top;\n",
       "    }\n",
       "\n",
       "    .dataframe thead th {\n",
       "        text-align: right;\n",
       "    }\n",
       "</style>\n",
       "<table border=\"1\" class=\"dataframe\">\n",
       "  <thead>\n",
       "    <tr style=\"text-align: right;\">\n",
       "      <th></th>\n",
       "      <th>length</th>\n",
       "      <th>width</th>\n",
       "      <th>class</th>\n",
       "    </tr>\n",
       "  </thead>\n",
       "  <tbody>\n",
       "    <tr>\n",
       "      <th>0</th>\n",
       "      <td>6.280259</td>\n",
       "      <td>7.291050</td>\n",
       "      <td>1</td>\n",
       "    </tr>\n",
       "    <tr>\n",
       "      <th>1</th>\n",
       "      <td>6.310156</td>\n",
       "      <td>6.772268</td>\n",
       "      <td>1</td>\n",
       "    </tr>\n",
       "    <tr>\n",
       "      <th>2</th>\n",
       "      <td>5.996524</td>\n",
       "      <td>4.920935</td>\n",
       "      <td>1</td>\n",
       "    </tr>\n",
       "    <tr>\n",
       "      <th>3</th>\n",
       "      <td>5.108846</td>\n",
       "      <td>6.013289</td>\n",
       "      <td>1</td>\n",
       "    </tr>\n",
       "    <tr>\n",
       "      <th>4</th>\n",
       "      <td>6.454588</td>\n",
       "      <td>6.774234</td>\n",
       "      <td>1</td>\n",
       "    </tr>\n",
       "    <tr>\n",
       "      <th>5</th>\n",
       "      <td>6.137923</td>\n",
       "      <td>6.421493</td>\n",
       "      <td>1</td>\n",
       "    </tr>\n",
       "    <tr>\n",
       "      <th>6</th>\n",
       "      <td>5.549992</td>\n",
       "      <td>5.818629</td>\n",
       "      <td>1</td>\n",
       "    </tr>\n",
       "    <tr>\n",
       "      <th>7</th>\n",
       "      <td>6.385736</td>\n",
       "      <td>5.666980</td>\n",
       "      <td>1</td>\n",
       "    </tr>\n",
       "    <tr>\n",
       "      <th>8</th>\n",
       "      <td>6.096426</td>\n",
       "      <td>5.003788</td>\n",
       "      <td>1</td>\n",
       "    </tr>\n",
       "    <tr>\n",
       "      <th>9</th>\n",
       "      <td>5.832869</td>\n",
       "      <td>5.903455</td>\n",
       "      <td>1</td>\n",
       "    </tr>\n",
       "  </tbody>\n",
       "</table>\n",
       "</div>"
      ],
      "text/plain": [
       "     length     width  class\n",
       "0  6.280259  7.291050      1\n",
       "1  6.310156  6.772268      1\n",
       "2  5.996524  4.920935      1\n",
       "3  5.108846  6.013289      1\n",
       "4  6.454588  6.774234      1\n",
       "5  6.137923  6.421493      1\n",
       "6  5.549992  5.818629      1\n",
       "7  6.385736  5.666980      1\n",
       "8  6.096426  5.003788      1\n",
       "9  5.832869  5.903455      1"
      ]
     },
     "execution_count": 4,
     "metadata": {},
     "output_type": "execute_result"
    }
   ],
   "source": [
    "apples.head(10)"
   ]
  },
  {
   "cell_type": "code",
   "execution_count": 6,
   "id": "1fdba506",
   "metadata": {},
   "outputs": [
    {
     "data": {
      "text/plain": [
       "Text(0, 0.5, 'Width')"
      ]
     },
     "execution_count": 6,
     "metadata": {},
     "output_type": "execute_result"
    },
    {
     "data": {
      "image/png": "[encoded data removed]",
      "text/plain": [
       "<Figure size 432x288 with 1 Axes>"
      ]
     },
     "metadata": {
      "needs_background": "light"
     },
     "output_type": "display_data"
    }
   ],
   "source": [
    "# Scatter plot\n",
    "plt.scatter(x=apples['length'], y=apples['width'], label='apples')\n",
    "plt.scatter(x=bananas['length'], y=bananas['width'], label='bananas')\n",
    "plt.legend()\n",
    "plt.xlabel('Length')\n",
    "plt.ylabel('Width')"
   ]
  },
  {
   "cell_type": "code",
   "execution_count": 7,
   "id": "be2d926d",
   "metadata": {},
   "outputs": [
    {
     "data": {
      "image/png": "[encoded data removed]",
      "text/plain": [
       "<Figure size 432x288 with 1 Axes>"
      ]
     },
     "metadata": {
      "needs_background": "light"
     },
     "output_type": "display_data"
    }
   ],
   "source": [
    "# Bar chart with error bars\n",
    "labels = ['bananas', 'apples', 'bananas', 'apples']\n",
    "x = [1, 1.5, 2.5, 3.0]\n",
    "height = [fruits.loc[fruits['class'] == 0, 'length'].mean(),\n",
    "          fruits.loc[fruits['class'] == 1, 'length'].mean(),\n",
    "          fruits.loc[fruits['class'] == 0, 'width'].mean(),\n",
    "          fruits.loc[fruits['class'] == 1, 'width'].mean()]\n",
    "yerr = [2*fruits.loc[fruits['class'] == 0, 'length'].std(),\n",
    "        2*fruits.loc[fruits['class'] == 1, 'length'].std(),\n",
    "        2*fruits.loc[fruits['class'] == 0, 'width'].std(),\n",
    "        2*fruits.loc[fruits['class'] == 1, 'width'].std()]\n",
    "color = ['tab:blue', 'tab:blue', 'tab:orange', 'tab:orange']\n",
    "\n",
    "plt.bar(x=x,\n",
    "        height=height,\n",
    "        color=color,\n",
    "        width=0.4,\n",
    "        error_kw={'lw': 4},\n",
    "        yerr=yerr)\n",
    "plt.xticks(ticks=x, labels=labels)\n",
    "plt.title('Fruit length VS width')\n",
    "\n",
    "plt.grid()"
   ]
  },
  {
   "cell_type": "code",
   "execution_count": 8,
   "id": "c23e45e1",
   "metadata": {},
   "outputs": [
    {
     "data": {
      "text/plain": [
       "Text(0.5, 1.0, 'Length Distribution ')"
      ]
     },
     "execution_count": 8,
     "metadata": {},
     "output_type": "execute_result"
    },
    {
     "data": {
      "image/png": "[encoded data removed]",
      "text/plain": [
       "<Figure size 432x288 with 1 Axes>"
      ]
     },
     "metadata": {
      "needs_background": "light"
     },
     "output_type": "display_data"
    }
   ],
   "source": [
    "# Box diagram                #differences in the length\n",
    "fea = 'length'\n",
    "plt.boxplot(x=fea, data=fruits.loc[fruits['class'] == 0],\n",
    "            patch_artist=True, boxprops={'facecolor': 'tab:blue'},\n",
    "            positions=[0], labels=['bananas'], widths=[0.15])\n",
    "plt.boxplot(x=fea, data=fruits.loc[fruits['class'] == 1],\n",
    "            patch_artist=True, boxprops={'facecolor': 'tab:orange'},\n",
    "            positions=[0.3], labels=['apples'], widths=[0.15])\n",
    "plt.ylabel('length')\n",
    "plt.xlim(-0.2, 0.5)\n",
    "plt.title('Length Distribution ')"
   ]
  },
  {
   "cell_type": "code",
   "execution_count": 9,
   "id": "d720f94f",
   "metadata": {},
   "outputs": [
    {
     "data": {
      "text/plain": [
       "Text(0.5, 0, 'Width')"
      ]
     },
     "execution_count": 9,
     "metadata": {},
     "output_type": "execute_result"
    },
    {
     "data": {
      "image/png": "[encoded data removed]",
      "text/plain": [
       "<Figure size 432x288 with 1 Axes>"
      ]
     },
     "metadata": {
      "needs_background": "light"
     },
     "output_type": "display_data"
    }
   ],
   "source": [
    "# histogram                # the width of two types of fruits presents two different distributions, but some areas overlap   => banana > apple \n",
    "fea = 'width'\n",
    "\n",
    "plt.hist(x=fea, data=fruits.loc[fruits['class'] == 0],\n",
    "         bins=30, density=True, color='tab:blue', label='bananas',)\n",
    "plt.hist(x=fea, data=fruits.loc[fruits['class'] == 1],\n",
    "         bins=30, density=True, color='tab:orange', label='apples', alpha=0.8)\n",
    "plt.legend(frameon=False)\n",
    "plt.title('Width Distribution ')\n",
    "plt.xlabel('Width')"
   ]
  },
  {
   "cell_type": "code",
   "execution_count": 11,
   "id": "2b6c08f6",
   "metadata": {},
   "outputs": [
    {
     "data": {
      "text/plain": [
       "<matplotlib.colorbar.Colorbar at 0x12fd954c0>"
      ]
     },
     "execution_count": 11,
     "metadata": {},
     "output_type": "execute_result"
    },
    {
     "data": {
      "image/png": "[encoded data removed]",
      "text/plain": [
       "<Figure size 432x288 with 2 Axes>"
      ]
     },
     "metadata": {
      "needs_background": "light"
     },
     "output_type": "display_data"
    }
   ],
   "source": [
    "# Joint distribution histogram          # The yellow part indicates that the sample density of the region is large, and the black part indicates that the sample density of the region is small.\n",
    "fig, (ax, cax) = plt.subplots(1, 2, gridspec_kw={'width_ratios': [0.9, 0.1]})\n",
    "_, _, _, mappable = ax.hist2d(\n",
    "    x='length', y='width', bins=50, data=fruits, cmap=plt.cm.hot)\n",
    "ax.set_xlabel('length')\n",
    "ax.set_ylabel('width')\n",
    "\n",
    "plt.colorbar(mappable=mappable, cax=cax, ax=ax)"
   ]
  },
  {
   "cell_type": "code",
   "execution_count": 12,
   "id": "79bb36e4",
   "metadata": {},
   "outputs": [
    {
     "data": {
      "text/plain": [
       "Text(0.5, 0, 'L/W ratio')"
      ]
     },
     "execution_count": 12,
     "metadata": {},
     "output_type": "execute_result"
    },
    {
     "data": {
      "image/png": "[encoded data removed]",
      "text/plain": [
       "<Figure size 432x288 with 1 Axes>"
      ]
     },
     "metadata": {
      "needs_background": "light"
     },
     "output_type": "display_data"
    }
   ],
   "source": [
    "# ratio of length to width is a good feature to separate the distribution of banana and fruit, and the overlapping area is very small.\n",
    "fea = 'L/W'\n",
    "fruits[fea] = fruits['length']/fruits['width']\n",
    "\n",
    "plt.hist(x=fea, data=fruits.loc[fruits['class'] == 0],\n",
    "         bins=30, density=True, color='tab:blue', label='bananas',)\n",
    "plt.hist(x=fea, data=fruits.loc[fruits['class'] == 1],\n",
    "         bins=30, density=True, color='tab:orange', label='apples',)\n",
    "plt.legend()\n",
    "plt.title('L/W Distribution ')\n",
    "plt.xlabel('L/W ratio')"
   ]
  },
  {
   "cell_type": "code",
   "execution_count": 13,
   "id": "e34b9d87",
   "metadata": {},
   "outputs": [
    {
     "data": {
      "text/plain": [
       "Text(0.5, 0, 'Area')"
      ]
     },
     "execution_count": 13,
     "metadata": {},
     "output_type": "execute_result"
    },
    {
     "data": {
      "image/png": "[encoded data removed]",
      "text/plain": [
       "<Figure size 432x288 with 1 Axes>"
      ]
     },
     "metadata": {
      "needs_background": "light"
     },
     "output_type": "display_data"
    }
   ],
   "source": [
    "# the measure of area      #multiplying the fruit length by the fruit width\n",
    "fea = 'area'\n",
    "fruits[fea] = fruits['length']*fruits['width']\n",
    "plt.hist(x=fea, data=fruits.loc[fruits['class'] == 0], histtype='step', lw=4,\n",
    "         bins=30, density=True, color='tab:blue', label='bananas')\n",
    "plt.hist(x=fea, data=fruits.loc[fruits['class'] == 1], histtype='step', lw=4,\n",
    "         bins=30, density=True, color='tab:orange', label='apples')\n",
    "plt.title('Area Distribution ')\n",
    "plt.legend()\n",
    "plt.xlabel('Area')"
   ]
  },
  {
   "cell_type": "code",
   "execution_count": 14,
   "id": "43374ceb",
   "metadata": {},
   "outputs": [
    {
     "data": {
      "text/plain": [
       "Text(0.5, 0, 'Circumference')"
      ]
     },
     "execution_count": 14,
     "metadata": {},
     "output_type": "execute_result"
    },
    {
     "data": {
      "image/png": "[encoded data removed]",
      "text/plain": [
       "<Figure size 432x288 with 1 Axes>"
      ]
     },
     "metadata": {
      "needs_background": "light"
     },
     "output_type": "display_data"
    }
   ],
   "source": [
    "# Perimeter     # adding the length of the fruit to the width of the fruit and multiplying by 2. \n",
    "fea = 'circumference'\n",
    "fruits[fea] = 2*(fruits['length']+fruits['width'])\n",
    "plt.hist(x=fea, data=fruits.loc[fruits['class'] == 0], histtype='step', lw=4,\n",
    "         bins=30, density=True, color='tab:blue', label='bananas')\n",
    "plt.hist(x=fea, data=fruits.loc[fruits['class'] == 1], histtype='step', lw=4,\n",
    "         bins=30, density=True, color='tab:orange', label='apples')\n",
    "plt.title('circumference Distribution ')\n",
    "plt.legend()\n",
    "plt.xlabel('Circumference')"
   ]
  },
  {
   "cell_type": "code",
   "execution_count": 15,
   "id": "12c9d7f2",
   "metadata": {},
   "outputs": [],
   "source": [
    "from scipy import stats"
   ]
  },
  {
   "cell_type": "code",
   "execution_count": 16,
   "id": "222e9e69",
   "metadata": {},
   "outputs": [
    {
     "data": {
      "text/plain": [
       "Ttest_indResult(statistic=82.438425661083, pvalue=0.0)"
      ]
     },
     "execution_count": 16,
     "metadata": {},
     "output_type": "execute_result"
    }
   ],
   "source": [
    "fea = 'L/W'\n",
    "fruits[fea] = fruits['length']/fruits['width']\n",
    "stats.ttest_ind(fruits.loc[fruits['class'] == 0, fea],\n",
    "                fruits.loc[fruits['class'] == 1, fea])"
   ]
  },
  {
   "cell_type": "code",
   "execution_count": 17,
   "id": "895a9325",
   "metadata": {},
   "outputs": [
    {
     "data": {
      "text/plain": [
       "Ttest_indResult(statistic=-18.33979554877528, pvalue=1.4737736564093967e-69)"
      ]
     },
     "execution_count": 17,
     "metadata": {},
     "output_type": "execute_result"
    }
   ],
   "source": [
    "fea = 'area'\n",
    "fruits[fea] = fruits['length']*fruits['width']\n",
    "stats.ttest_ind(fruits.loc[fruits['class'] == 0, fea],\n",
    "                fruits.loc[fruits['class'] == 1, fea])"
   ]
  },
  {
   "cell_type": "code",
   "execution_count": 18,
   "id": "5061b8f0",
   "metadata": {},
   "outputs": [
    {
     "data": {
      "text/plain": [
       "Ttest_indResult(statistic=-1.3170522756675043, pvalue=0.18797213126930964)"
      ]
     },
     "execution_count": 18,
     "metadata": {},
     "output_type": "execute_result"
    }
   ],
   "source": [
    "fea = 'circumference'\n",
    "fruits[fea] = 2*(fruits['length']+fruits['width'])\n",
    "stats.ttest_ind(fruits.loc[fruits['class'] == 0, fea],\n",
    "                fruits.loc[fruits['class'] == 1, fea])\n"
   ]
  }
 ],
 "metadata": {
  "kernelspec": {
   "display_name": "Python 3 (ipykernel)",
   "language": "python",
   "name": "python3"
  },
  "language_info": {
   "codemirror_mode": {
    "name": "ipython",
    "version": 3
   },
   "file_extension": ".py",
   "mimetype": "text/x-python",
   "name": "python",
   "nbconvert_exporter": "python",
   "pygments_lexer": "ipython3",
   "version": "3.9.9"
  }
 },
 "nbformat": 4,
 "nbformat_minor": 5
}
