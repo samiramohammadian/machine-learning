{
 "cells": [
  {
   "cell_type": "code",
   "execution_count": 173,
   "id": "81e188c9",
   "metadata": {},
   "outputs": [],
   "source": [
    "import numpy as np \n",
    "import pandas as pd\n",
    "import matplotlib.pyplot as plt\n",
    "from matplotlib.colors import ListedColormap\n",
    "import matplotlib.pyplot as plt\n",
    "from matplotlib.colors import ListedColormap\n",
    "from sklearn.neighbors import KNeighborsClassifier\n",
    "from sklearn.model_selection import train_test_split\n",
    "from sklearn import metrics"
   ]
  },
  {
   "cell_type": "code",
   "execution_count": 174,
   "id": "9ad43f93",
   "metadata": {},
   "outputs": [
    {
     "data": {
      "text/html": [
       "<div>\n",
       "<style scoped>\n",
       "    .dataframe tbody tr th:only-of-type {\n",
       "        vertical-align: middle;\n",
       "    }\n",
       "\n",
       "    .dataframe tbody tr th {\n",
       "        vertical-align: top;\n",
       "    }\n",
       "\n",
       "    .dataframe thead th {\n",
       "        text-align: right;\n",
       "    }\n",
       "</style>\n",
       "<table border=\"1\" class=\"dataframe\">\n",
       "  <thead>\n",
       "    <tr style=\"text-align: right;\">\n",
       "      <th></th>\n",
       "      <th>Gender</th>\n",
       "      <th>Height</th>\n",
       "      <th>Weight</th>\n",
       "    </tr>\n",
       "  </thead>\n",
       "  <tbody>\n",
       "    <tr>\n",
       "      <th>0</th>\n",
       "      <td>Male</td>\n",
       "      <td>73.847017</td>\n",
       "      <td>241.893563</td>\n",
       "    </tr>\n",
       "    <tr>\n",
       "      <th>1</th>\n",
       "      <td>Male</td>\n",
       "      <td>68.781904</td>\n",
       "      <td>162.310473</td>\n",
       "    </tr>\n",
       "    <tr>\n",
       "      <th>2</th>\n",
       "      <td>Male</td>\n",
       "      <td>74.110105</td>\n",
       "      <td>212.740856</td>\n",
       "    </tr>\n",
       "    <tr>\n",
       "      <th>3</th>\n",
       "      <td>Male</td>\n",
       "      <td>71.730978</td>\n",
       "      <td>220.042470</td>\n",
       "    </tr>\n",
       "    <tr>\n",
       "      <th>4</th>\n",
       "      <td>Male</td>\n",
       "      <td>69.881796</td>\n",
       "      <td>206.349801</td>\n",
       "    </tr>\n",
       "    <tr>\n",
       "      <th>...</th>\n",
       "      <td>...</td>\n",
       "      <td>...</td>\n",
       "      <td>...</td>\n",
       "    </tr>\n",
       "    <tr>\n",
       "      <th>9995</th>\n",
       "      <td>Female</td>\n",
       "      <td>66.172652</td>\n",
       "      <td>136.777454</td>\n",
       "    </tr>\n",
       "    <tr>\n",
       "      <th>9996</th>\n",
       "      <td>Female</td>\n",
       "      <td>67.067155</td>\n",
       "      <td>170.867906</td>\n",
       "    </tr>\n",
       "    <tr>\n",
       "      <th>9997</th>\n",
       "      <td>Female</td>\n",
       "      <td>63.867992</td>\n",
       "      <td>128.475319</td>\n",
       "    </tr>\n",
       "    <tr>\n",
       "      <th>9998</th>\n",
       "      <td>Female</td>\n",
       "      <td>69.034243</td>\n",
       "      <td>163.852461</td>\n",
       "    </tr>\n",
       "    <tr>\n",
       "      <th>9999</th>\n",
       "      <td>Female</td>\n",
       "      <td>61.944246</td>\n",
       "      <td>113.649103</td>\n",
       "    </tr>\n",
       "  </tbody>\n",
       "</table>\n",
       "<p>10000 rows × 3 columns</p>\n",
       "</div>"
      ],
      "text/plain": [
       "      Gender     Height      Weight\n",
       "0       Male  73.847017  241.893563\n",
       "1       Male  68.781904  162.310473\n",
       "2       Male  74.110105  212.740856\n",
       "3       Male  71.730978  220.042470\n",
       "4       Male  69.881796  206.349801\n",
       "...      ...        ...         ...\n",
       "9995  Female  66.172652  136.777454\n",
       "9996  Female  67.067155  170.867906\n",
       "9997  Female  63.867992  128.475319\n",
       "9998  Female  69.034243  163.852461\n",
       "9999  Female  61.944246  113.649103\n",
       "\n",
       "[10000 rows x 3 columns]"
      ]
     },
     "execution_count": 174,
     "metadata": {},
     "output_type": "execute_result"
    }
   ],
   "source": [
    "data = pd.read_csv(\"weight-height.csv\")\n",
    "data"
   ]
  },
  {
   "cell_type": "code",
   "execution_count": 175,
   "id": "1f06e96d",
   "metadata": {},
   "outputs": [
    {
     "data": {
      "text/html": [
       "<div>\n",
       "<style scoped>\n",
       "    .dataframe tbody tr th:only-of-type {\n",
       "        vertical-align: middle;\n",
       "    }\n",
       "\n",
       "    .dataframe tbody tr th {\n",
       "        vertical-align: top;\n",
       "    }\n",
       "\n",
       "    .dataframe thead th {\n",
       "        text-align: right;\n",
       "    }\n",
       "</style>\n",
       "<table border=\"1\" class=\"dataframe\">\n",
       "  <thead>\n",
       "    <tr style=\"text-align: right;\">\n",
       "      <th></th>\n",
       "      <th>Gender</th>\n",
       "      <th>Height</th>\n",
       "      <th>Weight</th>\n",
       "    </tr>\n",
       "  </thead>\n",
       "  <tbody>\n",
       "    <tr>\n",
       "      <th>0</th>\n",
       "      <td>Male</td>\n",
       "      <td>187.571423</td>\n",
       "      <td>109.702296</td>\n",
       "    </tr>\n",
       "    <tr>\n",
       "      <th>1</th>\n",
       "      <td>Male</td>\n",
       "      <td>174.706036</td>\n",
       "      <td>73.610192</td>\n",
       "    </tr>\n",
       "    <tr>\n",
       "      <th>2</th>\n",
       "      <td>Male</td>\n",
       "      <td>188.239668</td>\n",
       "      <td>96.481114</td>\n",
       "    </tr>\n",
       "    <tr>\n",
       "      <th>3</th>\n",
       "      <td>Male</td>\n",
       "      <td>182.196685</td>\n",
       "      <td>99.792504</td>\n",
       "    </tr>\n",
       "    <tr>\n",
       "      <th>4</th>\n",
       "      <td>Male</td>\n",
       "      <td>177.499761</td>\n",
       "      <td>93.582676</td>\n",
       "    </tr>\n",
       "    <tr>\n",
       "      <th>...</th>\n",
       "      <td>...</td>\n",
       "      <td>...</td>\n",
       "      <td>...</td>\n",
       "    </tr>\n",
       "    <tr>\n",
       "      <th>9995</th>\n",
       "      <td>Female</td>\n",
       "      <td>168.078536</td>\n",
       "      <td>62.030591</td>\n",
       "    </tr>\n",
       "    <tr>\n",
       "      <th>9996</th>\n",
       "      <td>Female</td>\n",
       "      <td>170.350573</td>\n",
       "      <td>77.491114</td>\n",
       "    </tr>\n",
       "    <tr>\n",
       "      <th>9997</th>\n",
       "      <td>Female</td>\n",
       "      <td>162.224700</td>\n",
       "      <td>58.265451</td>\n",
       "    </tr>\n",
       "    <tr>\n",
       "      <th>9998</th>\n",
       "      <td>Female</td>\n",
       "      <td>175.346978</td>\n",
       "      <td>74.309506</td>\n",
       "    </tr>\n",
       "    <tr>\n",
       "      <th>9999</th>\n",
       "      <td>Female</td>\n",
       "      <td>157.338385</td>\n",
       "      <td>51.541543</td>\n",
       "    </tr>\n",
       "  </tbody>\n",
       "</table>\n",
       "<p>10000 rows × 3 columns</p>\n",
       "</div>"
      ],
      "text/plain": [
       "      Gender      Height      Weight\n",
       "0       Male  187.571423  109.702296\n",
       "1       Male  174.706036   73.610192\n",
       "2       Male  188.239668   96.481114\n",
       "3       Male  182.196685   99.792504\n",
       "4       Male  177.499761   93.582676\n",
       "...      ...         ...         ...\n",
       "9995  Female  168.078536   62.030591\n",
       "9996  Female  170.350573   77.491114\n",
       "9997  Female  162.224700   58.265451\n",
       "9998  Female  175.346978   74.309506\n",
       "9999  Female  157.338385   51.541543\n",
       "\n",
       "[10000 rows x 3 columns]"
      ]
     },
     "execution_count": 175,
     "metadata": {},
     "output_type": "execute_result"
    }
   ],
   "source": [
    "data['Height'] = data['Height'] * 2.54\n",
    "data['Weight'] = data['Weight'] / 2.205\n",
    "\n",
    "data"
   ]
  },
  {
   "cell_type": "code",
   "execution_count": 176,
   "id": "d09a6528",
   "metadata": {},
   "outputs": [
    {
     "data": {
      "text/html": [
       "<div>\n",
       "<style scoped>\n",
       "    .dataframe tbody tr th:only-of-type {\n",
       "        vertical-align: middle;\n",
       "    }\n",
       "\n",
       "    .dataframe tbody tr th {\n",
       "        vertical-align: top;\n",
       "    }\n",
       "\n",
       "    .dataframe thead th {\n",
       "        text-align: right;\n",
       "    }\n",
       "</style>\n",
       "<table border=\"1\" class=\"dataframe\">\n",
       "  <thead>\n",
       "    <tr style=\"text-align: right;\">\n",
       "      <th></th>\n",
       "      <th>Gender</th>\n",
       "      <th>Height</th>\n",
       "      <th>Weight</th>\n",
       "    </tr>\n",
       "  </thead>\n",
       "  <tbody>\n",
       "    <tr>\n",
       "      <th>0</th>\n",
       "      <td>1</td>\n",
       "      <td>187.571423</td>\n",
       "      <td>109.702296</td>\n",
       "    </tr>\n",
       "    <tr>\n",
       "      <th>1</th>\n",
       "      <td>1</td>\n",
       "      <td>174.706036</td>\n",
       "      <td>73.610192</td>\n",
       "    </tr>\n",
       "    <tr>\n",
       "      <th>2</th>\n",
       "      <td>1</td>\n",
       "      <td>188.239668</td>\n",
       "      <td>96.481114</td>\n",
       "    </tr>\n",
       "    <tr>\n",
       "      <th>3</th>\n",
       "      <td>1</td>\n",
       "      <td>182.196685</td>\n",
       "      <td>99.792504</td>\n",
       "    </tr>\n",
       "    <tr>\n",
       "      <th>4</th>\n",
       "      <td>1</td>\n",
       "      <td>177.499761</td>\n",
       "      <td>93.582676</td>\n",
       "    </tr>\n",
       "    <tr>\n",
       "      <th>...</th>\n",
       "      <td>...</td>\n",
       "      <td>...</td>\n",
       "      <td>...</td>\n",
       "    </tr>\n",
       "    <tr>\n",
       "      <th>9995</th>\n",
       "      <td>0</td>\n",
       "      <td>168.078536</td>\n",
       "      <td>62.030591</td>\n",
       "    </tr>\n",
       "    <tr>\n",
       "      <th>9996</th>\n",
       "      <td>0</td>\n",
       "      <td>170.350573</td>\n",
       "      <td>77.491114</td>\n",
       "    </tr>\n",
       "    <tr>\n",
       "      <th>9997</th>\n",
       "      <td>0</td>\n",
       "      <td>162.224700</td>\n",
       "      <td>58.265451</td>\n",
       "    </tr>\n",
       "    <tr>\n",
       "      <th>9998</th>\n",
       "      <td>0</td>\n",
       "      <td>175.346978</td>\n",
       "      <td>74.309506</td>\n",
       "    </tr>\n",
       "    <tr>\n",
       "      <th>9999</th>\n",
       "      <td>0</td>\n",
       "      <td>157.338385</td>\n",
       "      <td>51.541543</td>\n",
       "    </tr>\n",
       "  </tbody>\n",
       "</table>\n",
       "<p>10000 rows × 3 columns</p>\n",
       "</div>"
      ],
      "text/plain": [
       "      Gender      Height      Weight\n",
       "0          1  187.571423  109.702296\n",
       "1          1  174.706036   73.610192\n",
       "2          1  188.239668   96.481114\n",
       "3          1  182.196685   99.792504\n",
       "4          1  177.499761   93.582676\n",
       "...      ...         ...         ...\n",
       "9995       0  168.078536   62.030591\n",
       "9996       0  170.350573   77.491114\n",
       "9997       0  162.224700   58.265451\n",
       "9998       0  175.346978   74.309506\n",
       "9999       0  157.338385   51.541543\n",
       "\n",
       "[10000 rows x 3 columns]"
      ]
     },
     "execution_count": 176,
     "metadata": {},
     "output_type": "execute_result"
    }
   ],
   "source": [
    "data = data.replace([\"Male\" , \"Female\"] , [1,0])\n",
    "data"
   ]
  },
  {
   "cell_type": "code",
   "execution_count": 177,
   "id": "78dd1a8c",
   "metadata": {},
   "outputs": [
    {
     "data": {
      "text/plain": [
       "(array([  23.,  218.,  926., 1906., 2196., 2167., 1612.,  765.,  163.,\n",
       "          24.]),\n",
       " array([137.82835865, 144.11120334, 150.39404803, 156.67689272,\n",
       "        162.95973741, 169.2425821 , 175.52542679, 181.80827149,\n",
       "        188.09111618, 194.37396087, 200.65680556]),\n",
       " <a list of 10 Patch objects>)"
      ]
     },
     "execution_count": 177,
     "metadata": {},
     "output_type": "execute_result"
    },
    {
     "data": {
      "image/png": "[encoded data removed]",
      "text/plain": [
       "<Figure size 432x288 with 1 Axes>"
      ]
     },
     "metadata": {
      "needs_background": "light"
     },
     "output_type": "display_data"
    }
   ],
   "source": [
    "plt.hist(data['Height'])"
   ]
  },
  {
   "cell_type": "code",
   "execution_count": 178,
   "id": "2cc21e8e",
   "metadata": {},
   "outputs": [
    {
     "data": {
      "text/plain": [
       "(array([  15.,  278., 1241., 2175., 1849., 2016., 1747.,  598.,   71.,\n",
       "          10.]),\n",
       " array([ 29.34246109,  38.65264576,  47.96283042,  57.27301508,\n",
       "         66.58319974,  75.8933844 ,  85.20356906,  94.51375373,\n",
       "        103.82393839, 113.13412305, 122.44430771]),\n",
       " <a list of 10 Patch objects>)"
      ]
     },
     "execution_count": 178,
     "metadata": {},
     "output_type": "execute_result"
    },
    {
     "data": {
      "image/png": "[encoded data removed]",
      "text/plain": [
       "<Figure size 432x288 with 1 Axes>"
      ]
     },
     "metadata": {
      "needs_background": "light"
     },
     "output_type": "display_data"
    }
   ],
   "source": [
    "plt.hist(data['Weight'])"
   ]
  },
  {
   "cell_type": "code",
   "execution_count": 179,
   "id": "37329396",
   "metadata": {},
   "outputs": [
    {
     "data": {
      "text/plain": [
       "<matplotlib.collections.PathCollection at 0x13ff0a910>"
      ]
     },
     "execution_count": 179,
     "metadata": {},
     "output_type": "execute_result"
    },
    {
     "data": {
      "image/png": "[encoded data removed]",
      "text/plain": [
       "<Figure size 432x288 with 1 Axes>"
      ]
     },
     "metadata": {
      "needs_background": "light"
     },
     "output_type": "display_data"
    }
   ],
   "source": [
    "plt.scatter(data['Weight'] , data['Height'])"
   ]
  },
  {
   "cell_type": "code",
   "execution_count": 180,
   "id": "efdbf2a6",
   "metadata": {},
   "outputs": [
    {
     "data": {
      "text/plain": [
       "<matplotlib.collections.PathCollection at 0x13ff2fb20>"
      ]
     },
     "execution_count": 180,
     "metadata": {},
     "output_type": "execute_result"
    },
    {
     "data": {
      "image/png": "[encoded data removed]",
      "text/plain": [
       "<Figure size 432x288 with 1 Axes>"
      ]
     },
     "metadata": {
      "needs_background": "light"
     },
     "output_type": "display_data"
    }
   ],
   "source": [
    "colors = ['hotpink' ,'green'  ]\n",
    "\n",
    "plt.scatter(data['Weight'] , data['Height'] , c=data[\"Gender\"] , cmap =ListedColormap(colors) , alpha=0.5)"
   ]
  },
  {
   "cell_type": "code",
   "execution_count": 181,
   "id": "73622ffb",
   "metadata": {},
   "outputs": [
    {
     "data": {
      "text/plain": [
       "(10000,)"
      ]
     },
     "execution_count": 181,
     "metadata": {},
     "output_type": "execute_result"
    }
   ],
   "source": [
    "X_train = np.array([data['Weight'] , data['Height']]).T\n",
    "X_train.shape\n",
    "\n",
    "Y_train = np.array(data['Gender'])\n",
    "Y_train.shape"
   ]
  },
  {
   "cell_type": "code",
   "execution_count": 182,
   "id": "366a10f5",
   "metadata": {},
   "outputs": [],
   "source": [
    "class KNearestNeighbors:\n",
    "    def __init__(self, k) :\n",
    "        self.k = k\n",
    "\n",
    "\n",
    "\n",
    "    # train       \n",
    "    def fit(self , X_train , Y_train):\n",
    "        self.X_train = X_train\n",
    "        self.Y_train = Y_train\n",
    "\n",
    "\n",
    "    # fasle oghlidosi\n",
    "    def eucilidianDstance(self, a,b):\n",
    "        d = np.sqrt(np.sum((a-b)**2))\n",
    "        return d\n",
    "\n",
    "\n",
    "    #near neighbors\n",
    "    def nearNeighbors(self, X_test):\n",
    "        dists = []\n",
    "        for x_train in self.X_train:\n",
    "            dist = self.eucilidianDstance(x_train , X_test)\n",
    "            dists.append(dist)\n",
    "\n",
    "        index_sorted = np.argsort(dists)\n",
    "        gender_sorted = self.Y_train[index_sorted]\n",
    "        return gender_sorted[0:self.k]\n",
    "\n",
    "    def evalute(self, X_test , Y_test):\n",
    "        c =0\n",
    "        for i , test in enumerate(range(len(X_test))):\n",
    "            preduct = self.predict(test)\n",
    "            if preduct[i] == Y_test[i]:\n",
    "                c +=1  \n",
    "        accuracy = c/len(Y_test)\n",
    "        return accuracy\n",
    "        \n",
    "    # test \n",
    "    def predict(self,X_test):\n",
    "\n",
    "        neighbors = self.nearNeighbors(X_test)\n",
    "        Y_test = np.argmax(np.bincount(neighbors))\n",
    "        return Y_test"
   ]
  },
  {
   "cell_type": "code",
   "execution_count": 183,
   "id": "f6e31038",
   "metadata": {},
   "outputs": [],
   "source": [
    "knn = KNearestNeighbors(k=5)\n",
    "# k=3\n",
    "\n",
    "# data haro balade alan \n",
    "#knn.fit(X_train , Y_train)\n",
    "\n",
    "#X_test = np.array([122,40])\n",
    "#answer = knn.predict(X_test )\n",
    "\n",
    "#answer"
   ]
  },
  {
   "cell_type": "code",
   "execution_count": 184,
   "id": "17b31199",
   "metadata": {},
   "outputs": [
    {
     "data": {
      "text/plain": [
       "2000"
      ]
     },
     "execution_count": 184,
     "metadata": {},
     "output_type": "execute_result"
    }
   ],
   "source": [
    "X_train , X_test , y_train , y_test = train_test_split(X_train,Y_train,test_size=0.2,random_state=4)\n",
    "len(X_test)"
   ]
  },
  {
   "cell_type": "code",
   "execution_count": 185,
   "id": "1f22b23f",
   "metadata": {},
   "outputs": [
    {
     "data": {
      "text/plain": [
       "0.923"
      ]
     },
     "execution_count": 185,
     "metadata": {},
     "output_type": "execute_result"
    }
   ],
   "source": [
    "knn = KNeighborsClassifier(11)\n",
    "knn.fit(X_train, y_train)\n",
    "pred = knn.predict(X_test)\n",
    "\n",
    "accuracy = metrics.accuracy_score(pred,y_test)\n",
    "accuracy"
   ]
  }
 ],
 "metadata": {
  "kernelspec": {
   "display_name": "Python 3 (ipykernel)",
   "language": "python",
   "name": "python3"
  },
  "language_info": {
   "codemirror_mode": {
    "name": "ipython",
    "version": 3
   },
   "file_extension": ".py",
   "mimetype": "text/x-python",
   "name": "python",
   "nbconvert_exporter": "python",
   "pygments_lexer": "ipython3",
   "version": "3.9.9"
  }
 },
 "nbformat": 4,
 "nbformat_minor": 5
}
